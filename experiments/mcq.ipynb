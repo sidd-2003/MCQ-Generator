{
  "cells": [
    {
      "cell_type": "code",
      "execution_count": 127,
      "metadata": {},
      "outputs": [],
      "source": [
        "# !pip install langchain\n",
        "# !pip install streamlit\n",
        "# !pip install python-dotenv\n",
        "# !pip install PyPDF2\n",
        "# !pip install groq\n",
        "# !pip install langchain_groq"
      ]
    },
    {
      "cell_type": "code",
      "execution_count": 128,
      "metadata": {
        "id": "lhJccuMoRJCM"
      },
      "outputs": [],
      "source": [
        "import os\n",
        "import json\n",
        "import pandas as pd\n",
        "from dotenv import load_dotenv"
      ]
    },
    {
      "cell_type": "code",
      "execution_count": 129,
      "metadata": {
        "id": "dyuQe7iwRJCN"
      },
      "outputs": [],
      "source": [
        "from langchain_core.prompts import ChatPromptTemplate\n",
        "from langchain_groq import ChatGroq"
      ]
    },
    {
      "cell_type": "code",
      "execution_count": 130,
      "metadata": {
        "id": "CJ6qCSzPRJCN"
      },
      "outputs": [],
      "source": [
        "load_dotenv()\n",
        "KEY=os.getenv(\"API_KEY\")"
      ]
    },
    {
      "cell_type": "code",
      "execution_count": 131,
      "metadata": {
        "id": "7dZRWoAmRJCN"
      },
      "outputs": [],
      "source": [
        "llm=ChatGroq(temperature=0, groq_api_key=KEY, model_name=\"llama3-70b-8192\")"
      ]
    },
    {
      "cell_type": "code",
      "execution_count": 132,
      "metadata": {
        "colab": {
          "base_uri": "https://localhost:8080/"
        },
        "id": "2bzWhrxmRJCO",
        "outputId": "4992e4ec-cf14-4ebc-81d9-dda26a8d3386"
      },
      "outputs": [
        {
          "data": {
            "text/plain": [
              "ChatGroq(client=<groq.resources.chat.completions.Completions object at 0x000002589DF81850>, async_client=<groq.resources.chat.completions.AsyncCompletions object at 0x000002589DB8E2D0>, model_name='llama3-70b-8192', temperature=1e-08, groq_api_key=SecretStr('**********'))"
            ]
          },
          "execution_count": 132,
          "metadata": {},
          "output_type": "execute_result"
        }
      ],
      "source": [
        "llm"
      ]
    },
    {
      "cell_type": "markdown",
      "metadata": {
        "id": "0arvFtNVRJCO"
      },
      "source": []
    },
    {
      "cell_type": "code",
      "execution_count": 133,
      "metadata": {
        "id": "ltHIXh-lRJCO"
      },
      "outputs": [],
      "source": [
        "from langchain.prompts import PromptTemplate\n",
        "from langchain.chains import LLMChain\n",
        "from langchain.chains import SequentialChain\n",
        "import PyPDF2\n"
      ]
    },
    {
      "cell_type": "code",
      "execution_count": 134,
      "metadata": {
        "id": "pyWNGRjnRJCO"
      },
      "outputs": [],
      "source": [
        "RESPONSE_JSON = {\n",
        "    \"1\": {\n",
        "        \"mcq\": \"multiple choice question\",\n",
        "        \"options\": {\n",
        "            \"a\": \"choice here\",\n",
        "            \"b\": \"choice here\",\n",
        "            \"c\": \"choice here\",\n",
        "            \"d\": \"choice here\",\n",
        "        },\n",
        "        \"correct\": \"correct answer\",\n",
        "    },\n",
        "    \"2\": {\n",
        "        \"mcq\": \"multiple choice question\",\n",
        "        \"options\": {\n",
        "            \"a\": \"choice here\",\n",
        "            \"b\": \"choice here\",\n",
        "            \"c\": \"choice here\",\n",
        "            \"d\": \"choice here\",\n",
        "        },\n",
        "        \"correct\": \"correct answer\",\n",
        "    },\n",
        "    \"3\": {\n",
        "        \"mcq\": \"multiple choice question\",\n",
        "        \"options\": {\n",
        "            \"a\": \"choice here\",\n",
        "            \"b\": \"choice here\",\n",
        "            \"c\": \"choice here\",\n",
        "            \"d\": \"choice here\",\n",
        "        },\n",
        "        \"correct\": \"correct answer\",\n",
        "    },\n",
        "}\n"
      ]
    },
    {
      "cell_type": "code",
      "execution_count": 135,
      "metadata": {
        "id": "Gs30Gt7HRJCO"
      },
      "outputs": [],
      "source": [
        "TEMPLATE=\"\"\"\n",
        "Text:{text}\n",
        "You are an expert MCQ maker. Given the above text, it is your job to \\\n",
        "create a quiz  of {number} multiple choice questions for {subject} students in {tone} tone.\n",
        "Make sure the questions are not repeated and check all the questions to be conforming the text as well.\n",
        "Make sure to format your response like  RESPONSE_JSON below  and use it as a guide. \\\n",
        "Ensure to make {number} MCQs\n",
        "### RESPONSE_JSON\n",
        "{response_json}\n",
        "Do not provide any extra text such as 'Here are the 5 multiple choice questions:'\n",
        "\n",
        "\"\"\""
      ]
    },
    {
      "cell_type": "code",
      "execution_count": 136,
      "metadata": {
        "id": "935oIG0ZRJCP"
      },
      "outputs": [],
      "source": [
        "quiz_generation_prompt = PromptTemplate(\n",
        "    input_variables=[\"text\", \"number\", \"subject\", \"tone\", \"response_json\"],\n",
        "    template=TEMPLATE\n",
        "    )\n"
      ]
    },
    {
      "cell_type": "code",
      "execution_count": 137,
      "metadata": {
        "id": "IMRmHcaNRJCP"
      },
      "outputs": [],
      "source": [
        "quiz_chain=LLMChain(llm=llm, prompt=quiz_generation_prompt, output_key=\"quiz\", verbose=True)"
      ]
    },
    {
      "cell_type": "code",
      "execution_count": 138,
      "metadata": {
        "id": "Drw5fkAYRJCP"
      },
      "outputs": [],
      "source": [
        "TEMPLATE2=\"\"\"\n",
        "You are an expert english grammarian and writer. Given a Multiple Choice Quiz for {subject} students.\\\n",
        "You need to evaluate the complexity of the question and give a complete analysis of the quiz. Only use at max 50 words for complexity analysis.\n",
        "if the quiz is not at per with the cognitive and analytical abilities of the students,\\\n",
        "update the quiz questions which needs to be changed and change the tone such that it perfectly fits the student abilities\n",
        "Quiz_MCQs:\n",
        "{quiz}\n",
        "\n",
        "Check from an expert English Writer of the above quiz:\n",
        "\"\"\""
      ]
    },
    {
      "cell_type": "code",
      "execution_count": 139,
      "metadata": {
        "id": "usVEzNOvRJCP"
      },
      "outputs": [],
      "source": [
        "quiz_evaluation_prompt=PromptTemplate(input_variables=[\"subject\", \"quiz\"], template=TEMPLATE)"
      ]
    },
    {
      "cell_type": "code",
      "execution_count": 140,
      "metadata": {
        "id": "mmraXo-_RJCQ"
      },
      "outputs": [],
      "source": [
        "review_chain=LLMChain(llm=llm, prompt=quiz_evaluation_prompt, output_key=\"review\", verbose=True)"
      ]
    },
    {
      "cell_type": "code",
      "execution_count": 141,
      "metadata": {
        "id": "nuyXcs6pRJCQ"
      },
      "outputs": [],
      "source": [
        "generate_evaluate_chain=SequentialChain(chains=[quiz_chain, review_chain], input_variables=[\"text\", \"number\", \"subject\", \"tone\", \"response_json\"],\n",
        "                                        output_variables=[\"quiz\", \"review\"], verbose=True,)"
      ]
    },
    {
      "cell_type": "code",
      "execution_count": 142,
      "metadata": {
        "id": "BXYagoTkRJCQ"
      },
      "outputs": [],
      "source": [
        "file_path=r\"D:\\Programming\\Foundations of Gen AI\\mcq-generator\\data.txt\""
      ]
    },
    {
      "cell_type": "code",
      "execution_count": 143,
      "metadata": {
        "colab": {
          "base_uri": "https://localhost:8080/",
          "height": 35
        },
        "id": "Ctuz9l4CRJCQ",
        "outputId": "b7f65c19-4277-4bd2-be5f-771228f7fe33"
      },
      "outputs": [
        {
          "data": {
            "text/plain": [
              "'D:\\\\Programming\\\\Foundations of Gen AI\\\\mcq-generator\\\\data.txt'"
            ]
          },
          "execution_count": 143,
          "metadata": {},
          "output_type": "execute_result"
        }
      ],
      "source": [
        "file_path"
      ]
    },
    {
      "cell_type": "code",
      "execution_count": 144,
      "metadata": {
        "id": "IDH9UlCjRJCQ"
      },
      "outputs": [],
      "source": [
        "with open(file_path, 'r') as file:\n",
        "    TEXT = file.read()"
      ]
    },
    {
      "cell_type": "code",
      "execution_count": 145,
      "metadata": {
        "colab": {
          "base_uri": "https://localhost:8080/"
        },
        "id": "XJPG-ckHRJCQ",
        "outputId": "8ea5eecd-29c5-45df-93b0-b722cd64b2e8"
      },
      "outputs": [
        {
          "name": "stdout",
          "output_type": "stream",
          "text": [
            "Artificial intelligence (AI), in its broadest sense, is intelligence exhibited by machines, particularly computer systems. It is a field of research in computer science that develops and studies methods and software that enable machines to perceive their environment and use learning and intelligence to take actions that maximize their chances of achieving defined goals.[1] Such machines may be called AIs.\n",
            "\n",
            "Some high-profile applications of AI include advanced web search engines (e.g., Google Search); recommendation systems (used by YouTube, Amazon, and Netflix); interacting via human speech (e.g., Google Assistant, Siri, and Alexa); autonomous vehicles (e.g., Waymo); generative and creative tools (e.g., ChatGPT, Apple Intelligence, and AI art); and superhuman play and analysis in strategy games (e.g., chess and Go). However, many AI applications are not perceived as AI: \"A lot of cutting edge AI has filtered into general applications, often without being called AI because once something becomes useful enough and common enough it's not labeled AI anymore.\"[2][3]\n",
            "\n",
            "Alan Turing was the first person to conduct substantial research in the field that he called \"machine intelligence\".[4] Artificial intelligence was founded as an academic discipline in 1956,[5] by those now considered the founding fathers of AI: John McCarthy, Marvin Minksy, Nathaniel Rochester, and Claude Shannon.[6][7] The field went through multiple cycles of optimism,[8][9] followed by periods of disappointment and loss of funding, known as AI winter.[10][11] Funding and interest vastly increased after 2012 when deep learning surpassed all previous AI techniques,[12] and after 2017 with the transformer architecture.[13] This led to the AI boom of the early 2020s, with companies, universities, and laboratories overwhelmingly based in the United States pioneering significant advances in artificial intelligence.[14]\n",
            "\n",
            "\n"
          ]
        }
      ],
      "source": [
        "print(TEXT)"
      ]
    },
    {
      "cell_type": "code",
      "execution_count": 146,
      "metadata": {
        "colab": {
          "base_uri": "https://localhost:8080/",
          "height": 105
        },
        "id": "sj30ADdWRJCR",
        "outputId": "63f09bfb-be7c-476d-c96f-714d9bb668ed"
      },
      "outputs": [
        {
          "data": {
            "text/plain": [
              "'{\"1\": {\"mcq\": \"multiple choice question\", \"options\": {\"a\": \"choice here\", \"b\": \"choice here\", \"c\": \"choice here\", \"d\": \"choice here\"}, \"correct\": \"correct answer\"}, \"2\": {\"mcq\": \"multiple choice question\", \"options\": {\"a\": \"choice here\", \"b\": \"choice here\", \"c\": \"choice here\", \"d\": \"choice here\"}, \"correct\": \"correct answer\"}, \"3\": {\"mcq\": \"multiple choice question\", \"options\": {\"a\": \"choice here\", \"b\": \"choice here\", \"c\": \"choice here\", \"d\": \"choice here\"}, \"correct\": \"correct answer\"}}'"
            ]
          },
          "execution_count": 146,
          "metadata": {},
          "output_type": "execute_result"
        }
      ],
      "source": [
        "# Serialize the Python dictionary into a JSON-formatted string\n",
        "json.dumps(RESPONSE_JSON)"
      ]
    },
    {
      "cell_type": "code",
      "execution_count": 147,
      "metadata": {
        "id": "tU6fJiE0RJCR"
      },
      "outputs": [],
      "source": [
        "NUMBER=10\n",
        "SUBJECT=\"Artificial Intelligence\"\n",
        "TONE=\"simple\"\n"
      ]
    },
    {
      "cell_type": "code",
      "execution_count": 148,
      "metadata": {
        "colab": {
          "base_uri": "https://localhost:8080/"
        },
        "id": "GP6M4W8QRJCR",
        "outputId": "f9fae5c0-0448-4fae-a059-a8c7b0544181"
      },
      "outputs": [
        {
          "name": "stdout",
          "output_type": "stream",
          "text": [
            "\n",
            "\n",
            "\u001b[1m> Entering new SequentialChain chain...\u001b[0m\n",
            "\n",
            "\n",
            "\u001b[1m> Entering new LLMChain chain...\u001b[0m\n",
            "Prompt after formatting:\n",
            "\u001b[32;1m\u001b[1;3m\n",
            "Text:Artificial intelligence (AI), in its broadest sense, is intelligence exhibited by machines, particularly computer systems. It is a field of research in computer science that develops and studies methods and software that enable machines to perceive their environment and use learning and intelligence to take actions that maximize their chances of achieving defined goals.[1] Such machines may be called AIs.\n",
            "\n",
            "Some high-profile applications of AI include advanced web search engines (e.g., Google Search); recommendation systems (used by YouTube, Amazon, and Netflix); interacting via human speech (e.g., Google Assistant, Siri, and Alexa); autonomous vehicles (e.g., Waymo); generative and creative tools (e.g., ChatGPT, Apple Intelligence, and AI art); and superhuman play and analysis in strategy games (e.g., chess and Go). However, many AI applications are not perceived as AI: \"A lot of cutting edge AI has filtered into general applications, often without being called AI because once something becomes useful enough and common enough it's not labeled AI anymore.\"[2][3]\n",
            "\n",
            "Alan Turing was the first person to conduct substantial research in the field that he called \"machine intelligence\".[4] Artificial intelligence was founded as an academic discipline in 1956,[5] by those now considered the founding fathers of AI: John McCarthy, Marvin Minksy, Nathaniel Rochester, and Claude Shannon.[6][7] The field went through multiple cycles of optimism,[8][9] followed by periods of disappointment and loss of funding, known as AI winter.[10][11] Funding and interest vastly increased after 2012 when deep learning surpassed all previous AI techniques,[12] and after 2017 with the transformer architecture.[13] This led to the AI boom of the early 2020s, with companies, universities, and laboratories overwhelmingly based in the United States pioneering significant advances in artificial intelligence.[14]\n",
            "\n",
            "\n",
            "You are an expert MCQ maker. Given the above text, it is your job to create a quiz  of 10 multiple choice questions for Artificial Intelligence students in simple tone.\n",
            "Make sure the questions are not repeated and check all the questions to be conforming the text as well.\n",
            "Make sure to format your response like  RESPONSE_JSON below  and use it as a guide. Ensure to make 10 MCQs\n",
            "### RESPONSE_JSON\n",
            "{\"1\": {\"mcq\": \"multiple choice question\", \"options\": {\"a\": \"choice here\", \"b\": \"choice here\", \"c\": \"choice here\", \"d\": \"choice here\"}, \"correct\": \"correct answer\"}, \"2\": {\"mcq\": \"multiple choice question\", \"options\": {\"a\": \"choice here\", \"b\": \"choice here\", \"c\": \"choice here\", \"d\": \"choice here\"}, \"correct\": \"correct answer\"}, \"3\": {\"mcq\": \"multiple choice question\", \"options\": {\"a\": \"choice here\", \"b\": \"choice here\", \"c\": \"choice here\", \"d\": \"choice here\"}, \"correct\": \"correct answer\"}}\n",
            "Do not provide any extra text such as 'Here are the 5 multiple choice questions:'\n",
            "\n",
            "\u001b[0m\n",
            "\n",
            "\u001b[1m> Finished chain.\u001b[0m\n",
            "\n",
            "\n",
            "\u001b[1m> Entering new LLMChain chain...\u001b[0m\n",
            "Prompt after formatting:\n",
            "\u001b[32;1m\u001b[1;3m\n",
            "Text:Artificial intelligence (AI), in its broadest sense, is intelligence exhibited by machines, particularly computer systems. It is a field of research in computer science that develops and studies methods and software that enable machines to perceive their environment and use learning and intelligence to take actions that maximize their chances of achieving defined goals.[1] Such machines may be called AIs.\n",
            "\n",
            "Some high-profile applications of AI include advanced web search engines (e.g., Google Search); recommendation systems (used by YouTube, Amazon, and Netflix); interacting via human speech (e.g., Google Assistant, Siri, and Alexa); autonomous vehicles (e.g., Waymo); generative and creative tools (e.g., ChatGPT, Apple Intelligence, and AI art); and superhuman play and analysis in strategy games (e.g., chess and Go). However, many AI applications are not perceived as AI: \"A lot of cutting edge AI has filtered into general applications, often without being called AI because once something becomes useful enough and common enough it's not labeled AI anymore.\"[2][3]\n",
            "\n",
            "Alan Turing was the first person to conduct substantial research in the field that he called \"machine intelligence\".[4] Artificial intelligence was founded as an academic discipline in 1956,[5] by those now considered the founding fathers of AI: John McCarthy, Marvin Minksy, Nathaniel Rochester, and Claude Shannon.[6][7] The field went through multiple cycles of optimism,[8][9] followed by periods of disappointment and loss of funding, known as AI winter.[10][11] Funding and interest vastly increased after 2012 when deep learning surpassed all previous AI techniques,[12] and after 2017 with the transformer architecture.[13] This led to the AI boom of the early 2020s, with companies, universities, and laboratories overwhelmingly based in the United States pioneering significant advances in artificial intelligence.[14]\n",
            "\n",
            "\n",
            "You are an expert MCQ maker. Given the above text, it is your job to create a quiz  of 10 multiple choice questions for Artificial Intelligence students in simple tone.\n",
            "Make sure the questions are not repeated and check all the questions to be conforming the text as well.\n",
            "Make sure to format your response like  RESPONSE_JSON below  and use it as a guide. Ensure to make 10 MCQs\n",
            "### RESPONSE_JSON\n",
            "{\"1\": {\"mcq\": \"multiple choice question\", \"options\": {\"a\": \"choice here\", \"b\": \"choice here\", \"c\": \"choice here\", \"d\": \"choice here\"}, \"correct\": \"correct answer\"}, \"2\": {\"mcq\": \"multiple choice question\", \"options\": {\"a\": \"choice here\", \"b\": \"choice here\", \"c\": \"choice here\", \"d\": \"choice here\"}, \"correct\": \"correct answer\"}, \"3\": {\"mcq\": \"multiple choice question\", \"options\": {\"a\": \"choice here\", \"b\": \"choice here\", \"c\": \"choice here\", \"d\": \"choice here\"}, \"correct\": \"correct answer\"}}\n",
            "Do not provide any extra text such as 'Here are the 5 multiple choice questions:'\n",
            "\n",
            "\u001b[0m\n",
            "\n",
            "\u001b[1m> Finished chain.\u001b[0m\n",
            "\n",
            "\u001b[1m> Finished chain.\u001b[0m\n"
          ]
        }
      ],
      "source": [
        "response=generate_evaluate_chain(\n",
        "        {\n",
        "            \"text\": TEXT,\n",
        "            \"number\": NUMBER,\n",
        "            \"subject\":SUBJECT,\n",
        "            \"tone\": TONE,\n",
        "            \"response_json\": json.dumps(RESPONSE_JSON)\n",
        "        }\n",
        "        )"
      ]
    },
    {
      "cell_type": "code",
      "execution_count": 149,
      "metadata": {
        "colab": {
          "base_uri": "https://localhost:8080/"
        },
        "id": "9o26NYVbRJCR",
        "outputId": "13963fa1-8295-41cf-e05d-e83874637922"
      },
      "outputs": [
        {
          "data": {
            "text/plain": [
              "{'text': 'Artificial intelligence (AI), in its broadest sense, is intelligence exhibited by machines, particularly computer systems. It is a field of research in computer science that develops and studies methods and software that enable machines to perceive their environment and use learning and intelligence to take actions that maximize their chances of achieving defined goals.[1] Such machines may be called AIs.\\n\\nSome high-profile applications of AI include advanced web search engines (e.g., Google Search); recommendation systems (used by YouTube, Amazon, and Netflix); interacting via human speech (e.g., Google Assistant, Siri, and Alexa); autonomous vehicles (e.g., Waymo); generative and creative tools (e.g., ChatGPT, Apple Intelligence, and AI art); and superhuman play and analysis in strategy games (e.g., chess and Go). However, many AI applications are not perceived as AI: \"A lot of cutting edge AI has filtered into general applications, often without being called AI because once something becomes useful enough and common enough it\\'s not labeled AI anymore.\"[2][3]\\n\\nAlan Turing was the first person to conduct substantial research in the field that he called \"machine intelligence\".[4] Artificial intelligence was founded as an academic discipline in 1956,[5] by those now considered the founding fathers of AI: John McCarthy, Marvin Minksy, Nathaniel Rochester, and Claude Shannon.[6][7] The field went through multiple cycles of optimism,[8][9] followed by periods of disappointment and loss of funding, known as AI winter.[10][11] Funding and interest vastly increased after 2012 when deep learning surpassed all previous AI techniques,[12] and after 2017 with the transformer architecture.[13] This led to the AI boom of the early 2020s, with companies, universities, and laboratories overwhelmingly based in the United States pioneering significant advances in artificial intelligence.[14]\\n\\n',\n",
              " 'number': 10,\n",
              " 'subject': 'Artificial Intelligence',\n",
              " 'tone': 'simple',\n",
              " 'response_json': '{\"1\": {\"mcq\": \"multiple choice question\", \"options\": {\"a\": \"choice here\", \"b\": \"choice here\", \"c\": \"choice here\", \"d\": \"choice here\"}, \"correct\": \"correct answer\"}, \"2\": {\"mcq\": \"multiple choice question\", \"options\": {\"a\": \"choice here\", \"b\": \"choice here\", \"c\": \"choice here\", \"d\": \"choice here\"}, \"correct\": \"correct answer\"}, \"3\": {\"mcq\": \"multiple choice question\", \"options\": {\"a\": \"choice here\", \"b\": \"choice here\", \"c\": \"choice here\", \"d\": \"choice here\"}, \"correct\": \"correct answer\"}}',\n",
              " 'quiz': '{\"1\": {\"mcq\": \"What is Artificial Intelligence in its broadest sense?\", \"options\": {\"a\": \"Intelligence exhibited by humans\", \"b\": \"Intelligence exhibited by machines\", \"c\": \"Intelligence exhibited by animals\", \"d\": \"Intelligence exhibited by robots\"}, \"correct\": \"b\"}, \\n\"2\": {\"mcq\": \"What is the primary goal of machines with AI?\", \"options\": {\"a\": \"To minimize their chances of achieving defined goals\", \"b\": \"To maximize their chances of achieving defined goals\", \"c\": \"To ignore their environment\", \"d\": \"To learn from humans\"}, \"correct\": \"b\"}, \\n\"3\": {\"mcq\": \"Which of the following is an example of a high-profile application of AI?\", \"options\": {\"a\": \"Google Maps\", \"b\": \"Google Search\", \"c\": \"Microsoft Office\", \"d\": \"Facebook\"}, \"correct\": \"b\"}, \\n\"4\": {\"mcq\": \"Who is considered the first person to conduct substantial research in the field of machine intelligence?\", \"options\": {\"a\": \"John McCarthy\", \"b\": \"Marvin Minksy\", \"c\": \"Alan Turing\", \"d\": \"Claude Shannon\"}, \"correct\": \"c\"}, \\n\"5\": {\"mcq\": \"When was Artificial Intelligence founded as an academic discipline?\", \"options\": {\"a\": \"1950\", \"b\": \"1956\", \"c\": \"1960\", \"d\": \"1962\"}, \"correct\": \"b\"}, \\n\"6\": {\"mcq\": \"What is the term used to describe the periods of disappointment and loss of funding in AI research?\", \"options\": {\"a\": \"AI winter\", \"b\": \"AI summer\", \"c\": \"AI spring\", \"d\": \"AI autumn\"}, \"correct\": \"a\"}, \\n\"7\": {\"mcq\": \"What led to the AI boom of the early 2020s?\", \"options\": {\"a\": \"The development of deep learning\", \"b\": \"The development of transformer architecture\", \"c\": \"Both A and B\", \"d\": \"Neither A nor B\"}, \"correct\": \"c\"}, \\n\"8\": {\"mcq\": \"Where are most companies, universities, and laboratories pioneering significant advances in artificial intelligence based?\", \"options\": {\"a\": \"United States\", \"b\": \"China\", \"c\": \"Europe\", \"d\": \"India\"}, \"correct\": \"a\"}, \\n\"9\": {\"mcq\": \"What is the term used to describe machines that exhibit intelligence?\", \"options\": {\"a\": \"AIs\", \"b\": \"Machines\", \"c\": \"Robots\", \"d\": \"Computers\"}, \"correct\": \"a\"}, \\n\"10\": {\"mcq\": \"Why are many AI applications not perceived as AI?\", \"options\": {\"a\": \"Because they are not useful\", \"b\": \"Because they are not common\", \"c\": \"Because once something becomes useful enough and common enough it\\'s not labeled AI anymore\", \"d\": \"Because they are not intelligent\"}, \"correct\": \"c\"}}',\n",
              " 'review': '{\"1\": {\"mcq\": \"What is Artificial Intelligence in its broadest sense?\", \"options\": {\"a\": \"Intelligence exhibited by humans\", \"b\": \"Intelligence exhibited by machines\", \"c\": \"Intelligence exhibited by animals\", \"d\": \"Intelligence exhibited by robots\"}, \"correct\": \"b\"}, \\n\"2\": {\"mcq\": \"What is the primary goal of machines with AI?\", \"options\": {\"a\": \"To minimize their chances of achieving defined goals\", \"b\": \"To maximize their chances of achieving defined goals\", \"c\": \"To ignore their environment\", \"d\": \"To learn from humans\"}, \"correct\": \"b\"}, \\n\"3\": {\"mcq\": \"Which of the following is an example of a high-profile application of AI?\", \"options\": {\"a\": \"Google Maps\", \"b\": \"Google Search\", \"c\": \"Microsoft Office\", \"d\": \"Facebook\"}, \"correct\": \"b\"}, \\n\"4\": {\"mcq\": \"Who is considered the first person to conduct substantial research in the field of machine intelligence?\", \"options\": {\"a\": \"John McCarthy\", \"b\": \"Marvin Minksy\", \"c\": \"Alan Turing\", \"d\": \"Claude Shannon\"}, \"correct\": \"c\"}, \\n\"5\": {\"mcq\": \"When was Artificial Intelligence founded as an academic discipline?\", \"options\": {\"a\": \"1950\", \"b\": \"1956\", \"c\": \"1960\", \"d\": \"1962\"}, \"correct\": \"b\"}, \\n\"6\": {\"mcq\": \"What is the term used to describe the periods of disappointment and loss of funding in AI research?\", \"options\": {\"a\": \"AI winter\", \"b\": \"AI summer\", \"c\": \"AI spring\", \"d\": \"AI autumn\"}, \"correct\": \"a\"}, \\n\"7\": {\"mcq\": \"What led to the AI boom of the early 2020s?\", \"options\": {\"a\": \"The development of deep learning\", \"b\": \"The development of transformer architecture\", \"c\": \"Both A and B\", \"d\": \"Neither A nor B\"}, \"correct\": \"c\"}, \\n\"8\": {\"mcq\": \"Where are most companies, universities, and laboratories pioneering significant advances in artificial intelligence based?\", \"options\": {\"a\": \"United States\", \"b\": \"China\", \"c\": \"Europe\", \"d\": \"India\"}, \"correct\": \"a\"}, \\n\"9\": {\"mcq\": \"What is the term used to describe machines that exhibit intelligence?\", \"options\": {\"a\": \"AIs\", \"b\": \"Machines\", \"c\": \"Robots\", \"d\": \"Computers\"}, \"correct\": \"a\"}, \\n\"10\": {\"mcq\": \"Why are many AI applications not perceived as AI?\", \"options\": {\"a\": \"Because they are not useful\", \"b\": \"Because they are not common\", \"c\": \"Because once something becomes useful enough and common enough it\\'s not labeled AI anymore\", \"d\": \"Because they are not intelligent\"}, \"correct\": \"c\"}}'}"
            ]
          },
          "execution_count": 149,
          "metadata": {},
          "output_type": "execute_result"
        }
      ],
      "source": [
        "response"
      ]
    },
    {
      "cell_type": "code",
      "execution_count": 150,
      "metadata": {
        "colab": {
          "base_uri": "https://localhost:8080/"
        },
        "id": "JNJo2xnWRJCR",
        "outputId": "5f44f903-9bc3-4ade-a5dd-bf282a6b7691"
      },
      "outputs": [
        {
          "name": "stdout",
          "output_type": "stream",
          "text": [
            "{\"1\": {\"mcq\": \"What is Artificial Intelligence in its broadest sense?\", \"options\": {\"a\": \"Intelligence exhibited by humans\", \"b\": \"Intelligence exhibited by machines\", \"c\": \"Intelligence exhibited by animals\", \"d\": \"Intelligence exhibited by robots\"}, \"correct\": \"b\"}, \n",
            "\"2\": {\"mcq\": \"What is the primary goal of machines with AI?\", \"options\": {\"a\": \"To minimize their chances of achieving defined goals\", \"b\": \"To maximize their chances of achieving defined goals\", \"c\": \"To ignore their environment\", \"d\": \"To learn from humans\"}, \"correct\": \"b\"}, \n",
            "\"3\": {\"mcq\": \"Which of the following is an example of a high-profile application of AI?\", \"options\": {\"a\": \"Google Maps\", \"b\": \"Google Search\", \"c\": \"Microsoft Office\", \"d\": \"Facebook\"}, \"correct\": \"b\"}, \n",
            "\"4\": {\"mcq\": \"Who is considered the first person to conduct substantial research in the field of machine intelligence?\", \"options\": {\"a\": \"John McCarthy\", \"b\": \"Marvin Minksy\", \"c\": \"Alan Turing\", \"d\": \"Claude Shannon\"}, \"correct\": \"c\"}, \n",
            "\"5\": {\"mcq\": \"When was Artificial Intelligence founded as an academic discipline?\", \"options\": {\"a\": \"1950\", \"b\": \"1956\", \"c\": \"1960\", \"d\": \"1962\"}, \"correct\": \"b\"}, \n",
            "\"6\": {\"mcq\": \"What is the term used to describe the periods of disappointment and loss of funding in AI research?\", \"options\": {\"a\": \"AI winter\", \"b\": \"AI summer\", \"c\": \"AI spring\", \"d\": \"AI autumn\"}, \"correct\": \"a\"}, \n",
            "\"7\": {\"mcq\": \"What led to the AI boom of the early 2020s?\", \"options\": {\"a\": \"The development of deep learning\", \"b\": \"The development of transformer architecture\", \"c\": \"Both A and B\", \"d\": \"Neither A nor B\"}, \"correct\": \"c\"}, \n",
            "\"8\": {\"mcq\": \"Where are most companies, universities, and laboratories pioneering significant advances in artificial intelligence based?\", \"options\": {\"a\": \"United States\", \"b\": \"China\", \"c\": \"Europe\", \"d\": \"India\"}, \"correct\": \"a\"}, \n",
            "\"9\": {\"mcq\": \"What is the term used to describe machines that exhibit intelligence?\", \"options\": {\"a\": \"AIs\", \"b\": \"Machines\", \"c\": \"Robots\", \"d\": \"Computers\"}, \"correct\": \"a\"}, \n",
            "\"10\": {\"mcq\": \"Why are many AI applications not perceived as AI?\", \"options\": {\"a\": \"Because they are not useful\", \"b\": \"Because they are not common\", \"c\": \"Because once something becomes useful enough and common enough it's not labeled AI anymore\", \"d\": \"Because they are not intelligent\"}, \"correct\": \"c\"}}\n"
          ]
        }
      ],
      "source": [
        "quiz=response.get(\"quiz\")\n",
        "\n",
        "print(quiz)"
      ]
    },
    {
      "cell_type": "code",
      "execution_count": 151,
      "metadata": {
        "id": "hv4YTeFhRJCR"
      },
      "outputs": [],
      "source": [
        "abc=json.loads(quiz)"
      ]
    },
    {
      "cell_type": "code",
      "execution_count": 152,
      "metadata": {
        "id": "cokt-NBmRJCR"
      },
      "outputs": [],
      "source": [
        "quiz_table_data = []\n",
        "for key, value in abc.items():\n",
        "    mcq = value[\"mcq\"]\n",
        "    options = \" | \".join(\n",
        "        [\n",
        "            f\"{option}: {option_value}\"\n",
        "            for option, option_value in value[\"options\"].items()\n",
        "            ]\n",
        "        )\n",
        "    correct = value[\"correct\"]\n",
        "    quiz_table_data.append({\"MCQ\": mcq, \"Choices\": options, \"Correct\": correct})"
      ]
    },
    {
      "cell_type": "code",
      "execution_count": 153,
      "metadata": {
        "colab": {
          "base_uri": "https://localhost:8080/"
        },
        "id": "NHkNJJapRJCR",
        "outputId": "ec4623f2-8993-4a1e-c318-10eb6a0d7048"
      },
      "outputs": [
        {
          "data": {
            "text/plain": [
              "[{'MCQ': 'What is Artificial Intelligence in its broadest sense?',\n",
              "  'Choices': 'a: Intelligence exhibited by humans | b: Intelligence exhibited by machines | c: Intelligence exhibited by animals | d: Intelligence exhibited by robots',\n",
              "  'Correct': 'b'},\n",
              " {'MCQ': 'What is the primary goal of machines with AI?',\n",
              "  'Choices': 'a: To minimize their chances of achieving defined goals | b: To maximize their chances of achieving defined goals | c: To ignore their environment | d: To learn from humans',\n",
              "  'Correct': 'b'},\n",
              " {'MCQ': 'Which of the following is an example of a high-profile application of AI?',\n",
              "  'Choices': 'a: Google Maps | b: Google Search | c: Microsoft Office | d: Facebook',\n",
              "  'Correct': 'b'},\n",
              " {'MCQ': 'Who is considered the first person to conduct substantial research in the field of machine intelligence?',\n",
              "  'Choices': 'a: John McCarthy | b: Marvin Minksy | c: Alan Turing | d: Claude Shannon',\n",
              "  'Correct': 'c'},\n",
              " {'MCQ': 'When was Artificial Intelligence founded as an academic discipline?',\n",
              "  'Choices': 'a: 1950 | b: 1956 | c: 1960 | d: 1962',\n",
              "  'Correct': 'b'},\n",
              " {'MCQ': 'What is the term used to describe the periods of disappointment and loss of funding in AI research?',\n",
              "  'Choices': 'a: AI winter | b: AI summer | c: AI spring | d: AI autumn',\n",
              "  'Correct': 'a'},\n",
              " {'MCQ': 'What led to the AI boom of the early 2020s?',\n",
              "  'Choices': 'a: The development of deep learning | b: The development of transformer architecture | c: Both A and B | d: Neither A nor B',\n",
              "  'Correct': 'c'},\n",
              " {'MCQ': 'Where are most companies, universities, and laboratories pioneering significant advances in artificial intelligence based?',\n",
              "  'Choices': 'a: United States | b: China | c: Europe | d: India',\n",
              "  'Correct': 'a'},\n",
              " {'MCQ': 'What is the term used to describe machines that exhibit intelligence?',\n",
              "  'Choices': 'a: AIs | b: Machines | c: Robots | d: Computers',\n",
              "  'Correct': 'a'},\n",
              " {'MCQ': 'Why are many AI applications not perceived as AI?',\n",
              "  'Choices': \"a: Because they are not useful | b: Because they are not common | c: Because once something becomes useful enough and common enough it's not labeled AI anymore | d: Because they are not intelligent\",\n",
              "  'Correct': 'c'}]"
            ]
          },
          "execution_count": 153,
          "metadata": {},
          "output_type": "execute_result"
        }
      ],
      "source": [
        "quiz_table_data"
      ]
    },
    {
      "cell_type": "code",
      "execution_count": 154,
      "metadata": {
        "id": "9mJTtrW_RJCR"
      },
      "outputs": [],
      "source": [
        "quiz=pd.DataFrame(quiz_table_data)"
      ]
    },
    {
      "cell_type": "code",
      "execution_count": 155,
      "metadata": {
        "id": "qBFNOcsLRJCR"
      },
      "outputs": [],
      "source": [
        "quiz.to_csv(\"machinelearning.csv\",index=False)"
      ]
    },
    {
      "cell_type": "code",
      "execution_count": 156,
      "metadata": {
        "colab": {
          "base_uri": "https://localhost:8080/",
          "height": 35
        },
        "id": "112Dt30dRJCR",
        "outputId": "30b9b235-d2d3-491d-fa98-9c8283813fad"
      },
      "outputs": [
        {
          "data": {
            "text/plain": [
              "'08_19_2024_04_54_29'"
            ]
          },
          "execution_count": 156,
          "metadata": {},
          "output_type": "execute_result"
        }
      ],
      "source": [
        "from datetime import datetime\n",
        "datetime.now().strftime('%m_%d_%Y_%H_%M_%S')"
      ]
    }
  ],
  "metadata": {
    "accelerator": "GPU",
    "colab": {
      "gpuType": "T4",
      "provenance": []
    },
    "kernelspec": {
      "display_name": "Python 3",
      "name": "python3"
    },
    "language_info": {
      "codemirror_mode": {
        "name": "ipython",
        "version": 3
      },
      "file_extension": ".py",
      "mimetype": "text/x-python",
      "name": "python",
      "nbconvert_exporter": "python",
      "pygments_lexer": "ipython3",
      "version": "3.11.9"
    }
  },
  "nbformat": 4,
  "nbformat_minor": 0
}
